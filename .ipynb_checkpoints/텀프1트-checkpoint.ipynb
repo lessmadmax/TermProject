{
 "cells": [
  {
   "cell_type": "markdown",
   "id": "be88ce67-07f9-4dca-9989-5ccd38ed271f",
   "metadata": {},
   "source": [
    "# 한국의 문화 수출과 국내 체류중인 외국인 수의 관계"
   ]
  },
  {
   "cell_type": "markdown",
   "id": "d1495127-2062-41e0-a5ec-7ae037b01b5f",
   "metadata": {},
   "source": [
    "(1) 주제 선정 이유<br>\n",
    "우리나라는 외국인 관련된 소프트웨어 사업이 아직 부족하다고 생각합니다.<br> \n",
    "따라서 외국인들의 관심을 크게 끈 한국의 문화가 알려짐에 따른 국내 체류중인 외국인 수의 관계를 확인하고,<br> \n",
    "충분한 관계성이 존재한다면 한국의 문화와 관련하여 외국인을 대상으로 소프트웨어 제품 개발을 고안하고자 해당 주제를 선택하게 되었습니다."
   ]
  },
  {
   "cell_type": "markdown",
   "id": "9cb613b0-b1e9-4d6f-9eeb-9985ee651b16",
   "metadata": {},
   "source": [
    "(2) 가설 정의<br>\n",
    "한국의 문화가 널리 알려짐에 따라 국내 외국인 체류자의 수는 증가한다."
   ]
  },
  {
   "cell_type": "markdown",
   "id": "061d7c84-8b3e-42b7-8066-f8943087ba92",
   "metadata": {},
   "source": [
    "(3) 인터넷을 통한 데이터 획득<br>\n",
    "https://www.data.go.kr/data/15100007/fileData.do , https://www.index.go.kr/unity/potal/main/EachDtlPageDetail.do?idx_cd=2752 , https://www.moj.go.kr/moj/2412/subview.do , https://www.moj.go.kr/moj/2411/subview.do 에서 제공하는 파일을 통하여 데이터를 획득하였습니다."
   ]
  },
  {
   "cell_type": "markdown",
   "id": "ec20af62-3e27-4d0f-aba7-f7df54c4981d",
   "metadata": {},
   "source": [
    "(4) 분석을 위한 데이터의 가공<br>\n"
   ]
  },
  {
   "cell_type": "markdown",
   "id": "b29d0317-f051-4214-ae28-87d97e1856d5",
   "metadata": {},
   "source": [
    "(5) 분석 결과 도출<br>"
   ]
  },
  {
   "cell_type": "markdown",
   "id": "67ecb6b5-d373-4f12-8656-880765d1762a",
   "metadata": {},
   "source": [
    "(6) 결론<br>"
   ]
  },
  {
   "cell_type": "markdown",
   "id": "e3ff550a-e4f9-4195-84a0-8119c54a2f42",
   "metadata": {},
   "source": [
    "(7) 참고문헌<br>"
   ]
  },
  {
   "cell_type": "markdown",
   "id": "1f1a11a0-6be2-4a19-91fb-79b83a2f6d2c",
   "metadata": {},
   "source": [
    "(8) 별첨: (3)의 획득한 데이터 원본<br>"
   ]
  },
  {
   "cell_type": "markdown",
   "id": "9ef79cad-d5c3-4031-9a22-59673e174244",
   "metadata": {},
   "source": [
    "(9) 별첨: (4)의 가공된 데이터 원본<br>"
   ]
  },
  {
   "cell_type": "markdown",
   "id": "9d3e0946-58e3-4e4d-8ebc-51a6f0db7544",
   "metadata": {},
   "source": [
    "(10) 별첨: (3)을 (4)로 변환하는 등의 작업을 위하여 본인이 직접 개발한 Python 소스코드 원본<br>"
   ]
  },
  {
   "cell_type": "code",
   "execution_count": null,
   "id": "c211d2c9-528e-4712-9f72-27dfcd7e186d",
   "metadata": {},
   "outputs": [],
   "source": []
  }
 ],
 "metadata": {
  "kernelspec": {
   "display_name": "Python 3 (ipykernel)",
   "language": "python",
   "name": "python3"
  },
  "language_info": {
   "codemirror_mode": {
    "name": "ipython",
    "version": 3
   },
   "file_extension": ".py",
   "mimetype": "text/x-python",
   "name": "python",
   "nbconvert_exporter": "python",
   "pygments_lexer": "ipython3",
   "version": "3.11.7"
  }
 },
 "nbformat": 4,
 "nbformat_minor": 5
}
